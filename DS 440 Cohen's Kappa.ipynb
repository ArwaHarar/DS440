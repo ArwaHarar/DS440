{
 "cells": [
  {
   "cell_type": "code",
   "execution_count": 1,
   "id": "d921265b",
   "metadata": {},
   "outputs": [],
   "source": [
    "import pandas as pd\n",
    "import numpy as np\n",
    "from sklearn import metrics\n",
    "from sklearn.metrics import cohen_kappa_score"
   ]
  },
  {
   "cell_type": "code",
   "execution_count": 2,
   "id": "cc837913",
   "metadata": {},
   "outputs": [],
   "source": [
    "df = pd.read_csv(\"fiftytweets_labeled.csv\")"
   ]
  },
  {
   "cell_type": "code",
   "execution_count": 3,
   "id": "5d625daa",
   "metadata": {},
   "outputs": [
    {
     "data": {
      "text/html": [
       "<div>\n",
       "<style scoped>\n",
       "    .dataframe tbody tr th:only-of-type {\n",
       "        vertical-align: middle;\n",
       "    }\n",
       "\n",
       "    .dataframe tbody tr th {\n",
       "        vertical-align: top;\n",
       "    }\n",
       "\n",
       "    .dataframe thead th {\n",
       "        text-align: right;\n",
       "    }\n",
       "</style>\n",
       "<table border=\"1\" class=\"dataframe\">\n",
       "  <thead>\n",
       "    <tr style=\"text-align: right;\">\n",
       "      <th></th>\n",
       "      <th>Remove</th>\n",
       "      <th>Datetime</th>\n",
       "      <th>Text</th>\n",
       "      <th>Username</th>\n",
       "      <th>Sentiment</th>\n",
       "      <th>label</th>\n",
       "      <th>Unnamed: 6</th>\n",
       "    </tr>\n",
       "  </thead>\n",
       "  <tbody>\n",
       "    <tr>\n",
       "      <th>0</th>\n",
       "      <td>0</td>\n",
       "      <td>2022-02-11 23:19:31+00:00</td>\n",
       "      <td>CLEARED LOWER HUDSON VALLEY: Crash: WB on I-28...</td>\n",
       "      <td>ThruwayTraffic</td>\n",
       "      <td>1</td>\n",
       "      <td>1</td>\n",
       "      <td>0</td>\n",
       "    </tr>\n",
       "    <tr>\n",
       "      <th>1</th>\n",
       "      <td>1</td>\n",
       "      <td>2022-02-11 23:12:06+00:00</td>\n",
       "      <td>UPDATE LOWER HUDSON VALLEY: Crash: WB on I-287...</td>\n",
       "      <td>ThruwayTraffic</td>\n",
       "      <td>1</td>\n",
       "      <td>1</td>\n",
       "      <td>0</td>\n",
       "    </tr>\n",
       "    <tr>\n",
       "      <th>2</th>\n",
       "      <td>2</td>\n",
       "      <td>2022-02-11 22:44:13+00:00</td>\n",
       "      <td>LOWER HUDSON VALLEY: Crash: WB on I-287 exit 1...</td>\n",
       "      <td>ThruwayTraffic</td>\n",
       "      <td>1</td>\n",
       "      <td>1</td>\n",
       "      <td>0</td>\n",
       "    </tr>\n",
       "    <tr>\n",
       "      <th>3</th>\n",
       "      <td>3</td>\n",
       "      <td>2022-02-11 20:39:32+00:00</td>\n",
       "      <td>CLEARED BUFFALO: Crash: SB on I-190 at exit 2:...</td>\n",
       "      <td>ThruwayTraffic</td>\n",
       "      <td>1</td>\n",
       "      <td>1</td>\n",
       "      <td>0</td>\n",
       "    </tr>\n",
       "    <tr>\n",
       "      <th>4</th>\n",
       "      <td>4</td>\n",
       "      <td>2022-02-11 19:49:24+00:00</td>\n",
       "      <td>BUFFALO: Crash: SB on I-190 at exit 2: Left la...</td>\n",
       "      <td>ThruwayTraffic</td>\n",
       "      <td>1</td>\n",
       "      <td>1</td>\n",
       "      <td>0</td>\n",
       "    </tr>\n",
       "  </tbody>\n",
       "</table>\n",
       "</div>"
      ],
      "text/plain": [
       "   Remove                   Datetime  \\\n",
       "0       0  2022-02-11 23:19:31+00:00   \n",
       "1       1  2022-02-11 23:12:06+00:00   \n",
       "2       2  2022-02-11 22:44:13+00:00   \n",
       "3       3  2022-02-11 20:39:32+00:00   \n",
       "4       4  2022-02-11 19:49:24+00:00   \n",
       "\n",
       "                                                Text        Username  \\\n",
       "0  CLEARED LOWER HUDSON VALLEY: Crash: WB on I-28...  ThruwayTraffic   \n",
       "1  UPDATE LOWER HUDSON VALLEY: Crash: WB on I-287...  ThruwayTraffic   \n",
       "2  LOWER HUDSON VALLEY: Crash: WB on I-287 exit 1...  ThruwayTraffic   \n",
       "3  CLEARED BUFFALO: Crash: SB on I-190 at exit 2:...  ThruwayTraffic   \n",
       "4  BUFFALO: Crash: SB on I-190 at exit 2: Left la...  ThruwayTraffic   \n",
       "\n",
       "   Sentiment  label  Unnamed: 6  \n",
       "0          1      1           0  \n",
       "1          1      1           0  \n",
       "2          1      1           0  \n",
       "3          1      1           0  \n",
       "4          1      1           0  "
      ]
     },
     "execution_count": 3,
     "metadata": {},
     "output_type": "execute_result"
    }
   ],
   "source": [
    "df.head()"
   ]
  },
  {
   "cell_type": "code",
   "execution_count": 4,
   "id": "ea3c32f5",
   "metadata": {},
   "outputs": [],
   "source": [
    "arwa = df[\"Sentiment\"]\n",
    "jess = df[\"label\"]"
   ]
  },
  {
   "cell_type": "code",
   "execution_count": 5,
   "id": "2b526f41",
   "metadata": {},
   "outputs": [
    {
     "data": {
      "text/plain": [
       "0    1\n",
       "1    1\n",
       "2    1\n",
       "3    1\n",
       "4    1\n",
       "Name: Sentiment, dtype: int64"
      ]
     },
     "execution_count": 5,
     "metadata": {},
     "output_type": "execute_result"
    }
   ],
   "source": [
    "arwa.head()"
   ]
  },
  {
   "cell_type": "code",
   "execution_count": 6,
   "id": "7ae96d8f",
   "metadata": {},
   "outputs": [
    {
     "data": {
      "text/plain": [
       "0    1\n",
       "1    1\n",
       "2    1\n",
       "3    1\n",
       "4    1\n",
       "Name: label, dtype: int64"
      ]
     },
     "execution_count": 6,
     "metadata": {},
     "output_type": "execute_result"
    }
   ],
   "source": [
    "jess.head()"
   ]
  },
  {
   "cell_type": "code",
   "execution_count": 10,
   "id": "ae45d0cc",
   "metadata": {},
   "outputs": [
    {
     "data": {
      "text/plain": [
       "0.8349514563106796"
      ]
     },
     "execution_count": 10,
     "metadata": {},
     "output_type": "execute_result"
    }
   ],
   "source": [
    "cohen_kappa_score(arwa, jess)"
   ]
  },
  {
   "cell_type": "code",
   "execution_count": 2,
   "id": "997db940",
   "metadata": {},
   "outputs": [],
   "source": [
    "data = pd.read_csv(\"traffic_labeled_tweets.csv\")"
   ]
  },
  {
   "cell_type": "code",
   "execution_count": 3,
   "id": "88cff19c",
   "metadata": {},
   "outputs": [
    {
     "data": {
      "text/html": [
       "<div>\n",
       "<style scoped>\n",
       "    .dataframe tbody tr th:only-of-type {\n",
       "        vertical-align: middle;\n",
       "    }\n",
       "\n",
       "    .dataframe tbody tr th {\n",
       "        vertical-align: top;\n",
       "    }\n",
       "\n",
       "    .dataframe thead th {\n",
       "        text-align: right;\n",
       "    }\n",
       "</style>\n",
       "<table border=\"1\" class=\"dataframe\">\n",
       "  <thead>\n",
       "    <tr style=\"text-align: right;\">\n",
       "      <th></th>\n",
       "      <th>label</th>\n",
       "      <th>jess_labels</th>\n",
       "      <th>Datetime</th>\n",
       "      <th>Text</th>\n",
       "      <th>Username</th>\n",
       "      <th>UserLocation</th>\n",
       "      <th>ReplyCount</th>\n",
       "      <th>LikeCount</th>\n",
       "      <th>RetweetCount</th>\n",
       "    </tr>\n",
       "  </thead>\n",
       "  <tbody>\n",
       "    <tr>\n",
       "      <th>0</th>\n",
       "      <td>0</td>\n",
       "      <td>0</td>\n",
       "      <td>2022-02-24 18:20:02+00:00</td>\n",
       "      <td>Construction on #AllTrains at New York Penn St...</td>\n",
       "      <td>511NY</td>\n",
       "      <td>New York State</td>\n",
       "      <td>0.0</td>\n",
       "      <td>0.0</td>\n",
       "      <td>0.0</td>\n",
       "    </tr>\n",
       "    <tr>\n",
       "      <th>1</th>\n",
       "      <td>0</td>\n",
       "      <td>0</td>\n",
       "      <td>2022-02-24 10:04:16+00:00</td>\n",
       "      <td>Cleared: Construction on #ELine SB from 23 St ...</td>\n",
       "      <td>511nyACE</td>\n",
       "      <td>New York City</td>\n",
       "      <td>0.0</td>\n",
       "      <td>0.0</td>\n",
       "      <td>0.0</td>\n",
       "    </tr>\n",
       "    <tr>\n",
       "      <th>2</th>\n",
       "      <td>0</td>\n",
       "      <td>0</td>\n",
       "      <td>2022-02-24 10:04:16+00:00</td>\n",
       "      <td>Cleared: Construction on #ELine SB from 23 St ...</td>\n",
       "      <td>511NY</td>\n",
       "      <td>New York State</td>\n",
       "      <td>0.0</td>\n",
       "      <td>0.0</td>\n",
       "      <td>0.0</td>\n",
       "    </tr>\n",
       "    <tr>\n",
       "      <th>3</th>\n",
       "      <td>0</td>\n",
       "      <td>0</td>\n",
       "      <td>2022-02-24 02:43:12+00:00</td>\n",
       "      <td>Construction on #ELine SB from 23 St to Spring...</td>\n",
       "      <td>511nyACE</td>\n",
       "      <td>New York City</td>\n",
       "      <td>0.0</td>\n",
       "      <td>0.0</td>\n",
       "      <td>0.0</td>\n",
       "    </tr>\n",
       "    <tr>\n",
       "      <th>4</th>\n",
       "      <td>0</td>\n",
       "      <td>0</td>\n",
       "      <td>2022-02-24 02:43:11+00:00</td>\n",
       "      <td>Construction on #ELine SB from 23 St to Spring...</td>\n",
       "      <td>511NY</td>\n",
       "      <td>New York State</td>\n",
       "      <td>0.0</td>\n",
       "      <td>0.0</td>\n",
       "      <td>0.0</td>\n",
       "    </tr>\n",
       "  </tbody>\n",
       "</table>\n",
       "</div>"
      ],
      "text/plain": [
       "   label  jess_labels                   Datetime  \\\n",
       "0      0            0  2022-02-24 18:20:02+00:00   \n",
       "1      0            0  2022-02-24 10:04:16+00:00   \n",
       "2      0            0  2022-02-24 10:04:16+00:00   \n",
       "3      0            0  2022-02-24 02:43:12+00:00   \n",
       "4      0            0  2022-02-24 02:43:11+00:00   \n",
       "\n",
       "                                                Text  Username  \\\n",
       "0  Construction on #AllTrains at New York Penn St...     511NY   \n",
       "1  Cleared: Construction on #ELine SB from 23 St ...  511nyACE   \n",
       "2  Cleared: Construction on #ELine SB from 23 St ...     511NY   \n",
       "3  Construction on #ELine SB from 23 St to Spring...  511nyACE   \n",
       "4  Construction on #ELine SB from 23 St to Spring...     511NY   \n",
       "\n",
       "     UserLocation  ReplyCount  LikeCount  RetweetCount  \n",
       "0  New York State         0.0        0.0           0.0  \n",
       "1   New York City         0.0        0.0           0.0  \n",
       "2  New York State         0.0        0.0           0.0  \n",
       "3   New York City         0.0        0.0           0.0  \n",
       "4  New York State         0.0        0.0           0.0  "
      ]
     },
     "execution_count": 3,
     "metadata": {},
     "output_type": "execute_result"
    }
   ],
   "source": [
    "data.head()"
   ]
  },
  {
   "cell_type": "code",
   "execution_count": 5,
   "id": "b506159b",
   "metadata": {},
   "outputs": [],
   "source": [
    "chenese = data[\"label\"]\n",
    "jess = data[\"jess_labels\"]"
   ]
  },
  {
   "cell_type": "code",
   "execution_count": 6,
   "id": "ed8c47cf",
   "metadata": {},
   "outputs": [
    {
     "data": {
      "text/plain": [
       "0.854351381595937"
      ]
     },
     "execution_count": 6,
     "metadata": {},
     "output_type": "execute_result"
    }
   ],
   "source": [
    "cohen_kappa_score(chenese, jess)"
   ]
  }
 ],
 "metadata": {
  "kernelspec": {
   "display_name": "Python 3 (ipykernel)",
   "language": "python",
   "name": "python3"
  },
  "language_info": {
   "codemirror_mode": {
    "name": "ipython",
    "version": 3
   },
   "file_extension": ".py",
   "mimetype": "text/x-python",
   "name": "python",
   "nbconvert_exporter": "python",
   "pygments_lexer": "ipython3",
   "version": "3.8.12"
  }
 },
 "nbformat": 4,
 "nbformat_minor": 5
}
